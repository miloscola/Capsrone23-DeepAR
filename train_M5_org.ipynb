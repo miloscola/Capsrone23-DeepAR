{
 "cells": [
  {
   "cell_type": "code",
   "execution_count": 23,
   "metadata": {},
   "outputs": [],
   "source": [
    "import torch\n",
    "import torch.nn as nn\n",
    "import numpy as np\n",
    "import time\n",
    "import math\n",
    "from matplotlib import pyplot\n",
    "from dataloader import *\n",
    "\n",
    "import torch.optim as optim\n",
    "from torch.utils.data.sampler import RandomSampler\n",
    "from tqdm import tqdm"
   ]
  },
  {
   "cell_type": "code",
   "execution_count": 2,
   "metadata": {},
   "outputs": [],
   "source": [
    "torch.manual_seed(0)\n",
    "np.random.seed(0)\n",
    "\n",
    "# S is the source sequence length\n",
    "# T is the target sequence length\n",
    "# N is the batch size\n",
    "# E is the feature number\n",
    "\n",
    "#src = torch.rand((10, 32, 512)) # (S,N,E) \n",
    "#tgt = torch.rand((20, 32, 512)) # (T,N,E)\n",
    "#out = transformer_model(src, tgt)\n",
    "\n",
    "input_window = 100 # number of input steps\n",
    "output_window = 1 # number of prediction steps, in this model its fixed to one\n",
    "block_len = input_window + output_window # for one input-output pair\n",
    "batch_size = 10\n",
    "train_size = 0.8\n",
    "device = torch.device(\"cuda\" if torch.cuda.is_available() else \"cpu\")\n"
   ]
  },
  {
   "cell_type": "code",
   "execution_count": 18,
   "metadata": {},
   "outputs": [],
   "source": [
    "# Load the parameters from json file\n",
    "import argparse\n",
    "import logging\n",
    "import os\n",
    "\n",
    "import utils\n",
    "from dataloader import *\n",
    "\n",
    "parser = argparse.ArgumentParser(description='Parameters')\n",
    "parser.add_argument('--dataset', default='M5', help='Name of the dataset')\n",
    "parser.add_argument('--data-folder', default='data', help='Parent dir of the dataset')\n",
    "parser.add_argument('--model-name', default='base_model', help='Directory containing params.json')\n",
    "parser.add_argument('-f')\n",
    "args, unknown = parser.parse_known_args()\n",
    "num_class = 30490\n",
    "data_dir = os.path.join(args.data_folder, args.dataset)\n",
    "model_dir = os.path.join('experiments', args.model_name)\n",
    "json_path = os.path.join(model_dir, 'params_M5.json') #有改\n",
    "\n",
    "\n",
    "assert os.path.isfile(json_path), f'No json configuration file found at {json_path}'\n",
    "params = utils.Params(json_path)\n",
    "\n",
    "train_set = TrainDataset(data_dir, args.dataset, num_class)\n",
    "test_set = TestDataset(data_dir, args.dataset, num_class)\n",
    "sampler = WeightedSampler(data_dir, args.dataset) # Use weighted sampler instead of random sampler"
   ]
  },
  {
   "cell_type": "code",
   "execution_count": 19,
   "metadata": {},
   "outputs": [],
   "source": [
    "train_loader = DataLoader(train_set, batch_size=params.batch_size, sampler=sampler, num_workers=4)"
   ]
  },
  {
   "cell_type": "code",
   "execution_count": 26,
   "metadata": {},
   "outputs": [
    {
     "name": "stderr",
     "output_type": "stream",
     "text": [
      "  0%|          | 0/98915 [00:00<?, ?it/s]"
     ]
    },
    {
     "ename": "",
     "evalue": "",
     "output_type": "error",
     "traceback": [
      "\u001b[1;31mThe Kernel crashed while executing code in the current cell or a previous cell. \n",
      "\u001b[1;31mPlease review the code in the cell(s) to identify a possible cause of the failure. \n",
      "\u001b[1;31mClick <a href='https://aka.ms/vscodeJupyterKernelCrash'>here</a> for more info. \n",
      "\u001b[1;31mView Jupyter <a href='command:jupyter.viewOutput'>log</a> for further details."
     ]
    }
   ],
   "source": [
    "for i, (train_batch, idx, labels_batch) in enumerate(tqdm(train_loader)):\n",
    "    print(i, (train_batch, idx, labels_batch))\n",
    "    break"
   ]
  },
  {
   "cell_type": "code",
   "execution_count": null,
   "metadata": {},
   "outputs": [],
   "source": []
  }
 ],
 "metadata": {
  "kernelspec": {
   "display_name": "Python 3",
   "language": "python",
   "name": "python3"
  },
  "language_info": {
   "codemirror_mode": {
    "name": "ipython",
    "version": 3
   },
   "file_extension": ".py",
   "mimetype": "text/x-python",
   "name": "python",
   "nbconvert_exporter": "python",
   "pygments_lexer": "ipython3",
   "version": "3.9.16"
  }
 },
 "nbformat": 4,
 "nbformat_minor": 2
}
